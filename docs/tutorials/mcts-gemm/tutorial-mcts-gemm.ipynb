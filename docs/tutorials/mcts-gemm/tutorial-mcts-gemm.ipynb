{
 "cells": [
  {
   "cell_type": "markdown",
   "metadata": {},
   "source": [
    "Tutorial: Autotune tree space version of GEMM \n",
    "===================\n",
    "\n",
    "This tutorial describes how to define autotuning problem and an evaluating method for autotuning PolyBench GEMM kenel. \n",
    "\n",
    "We assume that you have checked out a copy of `ytopt`. For guidelines on how to get ytopt set up, refer [Install instructions](https://github.com/ytopt-team/ytopt/blob/tutorial/README.md) and [Install instructions for tree space](https://github.com/ytopt-team/ytopt/blob/mcts/ytopt/cmcts/README.md). "
   ]
  },
  {
   "cell_type": "markdown",
   "metadata": {},
   "source": [
    "Run the following\n",
    "-----------------------\n",
    "- Go to where `problem.py` such as\n",
    "\n",
    "`\n",
    "cd ytopt/cmcts/benchmarks/gemm\n",
    "`\n",
    "- Start search\n",
    "\n",
    "`CLANG_PREFIX=/scratch/jkoo/sw/clang13/llvm-project/build/ ./autotune_mcts.sh`"
   ]
  },
  {
   "cell_type": "markdown",
   "metadata": {},
   "source": [
    "Outputs look like\n",
    "-----------------------"
   ]
  },
  {
   "cell_type": "markdown",
   "metadata": {},
   "source": [
    "```\n",
    "\n",
    ".....RUN mcts.....\n",
    "n_run: 300 n_run_1: 50 n_run_2: 250 r_idx poly_v1_test\n",
    "Extract loop nests...\n",
    "$ (cd /home/jkoo/github/ytopt-mcts/ytune/ytopt/ytopt/search/mcts/benchmarks/gemm/gemm_mcts/mctree-frh3o5ab/base && /scratch/jkoo/sw/clang13/llvm-project/build//bin/clang /home/jkoo/github/ytopt-mcts/ytune/ytopt/ytopt/search/mcts/benchmarks/gemm/gemm.c /home/jkoo/github/ytopt-mcts/ytune/ytopt/ytopt/search/mcts/benchmarks/gemm/polybench.c -I/scratch/jkoo/sw/clang13/llvm-project/build//projects/openmp/runtime/src -I/scratch/jkoo/sw/clang13/llvm-project/build//runtimes/runtimes-bins/openmp/runtime/src -L/scratch/jkoo/sw/clang13/llvm-project/build//runtimes/runtimes-bins/openmp/runtime/src -flegacy-pass-manager -mllvm -polly-position=early -O3 -march=native -I/home/jkoo/github/ytopt-mcts/ytune/ytopt/ytopt/search/mcts/benchmarks/gemm -DLARGE_DATASET -mllvm -polly-only-func=kernel_gemm -iquote /home/jkoo/github/ytopt-mcts/ytune/ytopt/ytopt/search/mcts/benchmarks/gemm -iquote /home/jkoo/github/ytopt-mcts/ytune/ytopt/ytopt/search/mcts/benchmarks/gemm -flegacy-pass-manager -ferror-limit=1 -mllvm -polly -mllvm -polly-process-unprofitable -mllvm -polly-reschedule=0 -mllvm -polly-pattern-matching-based-opts=0 -DPOLYBENCH_TIME=1 -g -gcolumn-info -fopenmp -mllvm -polly-omp-backend=LLVM -mllvm -polly-scheduling=static -Werror=pass-failed -mllvm -polly-output-loopnest=loopnests.json -o /home/jkoo/github/ytopt-mcts/ytune/ytopt/ytopt/search/mcts/benchmarks/gemm/gemm_mcts/mctree-frh3o5ab/base/gemm)\n",
    "Writing LoopNest to 'loopnests.json'.\n",
    "\n",
    "Exit with code 0 in 0:00:02.826495\n",
    "Exit with code 0 in 0:00:00.579431\n",
    "Execution completed in 0:00:00.579431; polybench measurement: 0.450682\n",
    "Exit with code 0 in 0:00:00.527145\n",
    "Execution completed in 0:00:00.527145; polybench measurement: 0.428569\n",
    "Exit with code 0 in 0:00:00.528090\n",
    "Execution completed in 0:00:00.528090; polybench measurement: 0.429653\n",
    "Exit with code 0 in 0:00:00.527671\n",
    "Execution completed in 0:00:00.527671; polybench measurement: 0.435196\n",
    "Exit with code 0 in 0:00:00.576873\n",
    "Execution completed in 0:00:00.576873; polybench measurement: 0.434453\n",
    "============================================================================================= 0\n",
    "exploration_weight init.......................................: 0.1\n",
    "[2, 3, 4, 1, 4, 4, 1, 3, 4, 2, 3, 1, 5, 5, 3, 2, 1, 1, 2, 4, 2, 3, 4, 1, 4, 1, 1, 1, 3, 1, 5, 5, 5, 2, 4, 5, 3, 2, 4, 5, 2, 5, 3, 2, 5, 2, 3, 4, 3, 5]\n",
    "Root time 0.434453\n",
    "=========init============== 0 0 1 terminal depth 5\n",
    "Run next experiment in /home/jkoo/github/ytopt-mcts/ytune/ytopt/ytopt/search/mcts/benchmarks/gemm/gemm_mcts/mctree-frh3o5ab/experiment1\n",
    "Experiment 1\n",
    "Function kernel_gemm:\n",
    "  #pragma clang loop(loop3,loop4,loop5) tile sizes(16,16,5) peel(rectangular) floor_ids(floor6,floor7,floor8) tile_ids(tile9,tile10,tile11)\n",
    "  #pragma clang loop(floor6,floor7,floor8,tile9,tile10,tile11) tile sizes(3,32,16,5,4,2) peel(rectangular) floor_ids(floor12,floor13,floor14,floor15,floor16,floor17) tile_ids(tile18,tile19,tile20,tile21,tile22,tile23)\n",
    "  #pragma clang loop(floor12,floor13,floor14,floor15,floor16,floor17,tile18,tile19,tile20,tile21,tile22,tile23) tile sizes(64,64,2,5,5,5,128,256,64,32,16,64) peel(rectangular) floor_ids(floor24,floor25,floor26,floor27,floor28,floor29,floor30,floor31,floor32,floor33,floor34,floor35) tile_ids(tile36,tile37,tile38,tile39,tile40,tile41,tile42,tile43,tile44,tile45,tile46,tile47)\n",
    "  #pragma clang loop(floor24,floor25,floor26,floor27,floor28,floor29,floor30,floor31,floor32,floor33,floor34,floor35,tile36,tile37,tile38,tile39,tile40,tile41,tile42) tile sizes(3,32,16,8,128,2,2,2,3,2,2,8,64,2,32,2,2,8,16) floor_ids(floor48,floor49,floor50,floor51,floor52,floor53,floor54,floor55,floor56,floor57,floor58,floor59,floor60,floor61,floor62,floor63,floor64,floor65,floor66) tile_ids(tile67,tile68,tile69,tile70,tile71,tile72,tile73,tile74,tile75,tile76,tile77,tile78,tile79,tile80,tile81,tile82,tile83,tile84,tile85)\n",
    "  #pragma clang loop(floor48,floor49,floor50,floor51,floor52,floor53,floor54,floor55,floor56,floor57,floor58,floor59,floor60,floor61,floor62,floor63,floor64,floor65,floor66) tile sizes(64,8,3,4,32,128,4,5,5,2,32,256,64,3,5,32,5,8,8) floor_ids(floor86,floor87,floor88,floor89,floor90,floor91,floor92,floor93,floor94,floor95,floor96,floor97,floor98,floor99,floor100,floor101,floor102,floor103,floor104) tile_ids(tile105,tile106,tile107,tile108,tile109,tile110,tile111,tile112,tile113,tile114,tile115,tile116,tile117,tile118,tile119,tile120,tile121,tile122,tile123)\n",
    "$ (cd /home/jkoo/github/ytopt-mcts/ytune/ytopt/ytopt/search/mcts/benchmarks/gemm/gemm_mcts/mctree-frh3o5ab/experiment1 && /scratch/jkoo/sw/clang13/llvm-project/build//bin/clang /home/jkoo/github/ytopt-mcts/ytune/ytopt/ytopt/search/mcts/benchmarks/gemm/gemm_mcts/mctree-frh3o5ab/experiment1/gemm.c /home/jkoo/github/ytopt-mcts/ytune/ytopt/ytopt/search/mcts/benchmarks/gemm/gemm_mcts/mctree-frh3o5ab/experiment1/polybench.c -I/scratch/jkoo/sw/clang13/llvm-project/build//projects/openmp/runtime/src -I/scratch/jkoo/sw/clang13/llvm-project/build//runtimes/runtimes-bins/openmp/runtime/src -L/scratch/jkoo/sw/clang13/llvm-project/build//runtimes/runtimes-bins/openmp/runtime/src -flegacy-pass-manager -mllvm -polly-position=early -O3 -march=native -I/home/jkoo/github/ytopt-mcts/ytune/ytopt/ytopt/search/mcts/benchmarks/gemm -DLARGE_DATASET -mllvm -polly-only-func=kernel_gemm -iquote /home/jkoo/github/ytopt-mcts/ytune/ytopt/ytopt/search/mcts/benchmarks/gemm -iquote /home/jkoo/github/ytopt-mcts/ytune/ytopt/ytopt/search/mcts/benchmarks/gemm -flegacy-pass-manager -ferror-limit=1 -mllvm -polly -mllvm -polly-process-unprofitable -mllvm -polly-reschedule=0 -mllvm -polly-pattern-matching-based-opts=0 -DPOLYBENCH_TIME=1 -fopenmp -mllvm -polly-omp-backend=LLVM -mllvm -polly-scheduling=static -Werror=pass-failed -o /home/jkoo/github/ytopt-mcts/ytune/ytopt/ytopt/search/mcts/benchmarks/gemm/gemm_mcts/mctree-frh3o5ab/experiment1/gemm)\n",
    "Exit with code 1 in 0:00:15.424723\n",
    "env.counter 1\n",
    "best_depth: [inf, inf, inf, inf, inf] 2\n",
    "=========init============== 0 1 2 terminal depth 3\n",
    "Run next experiment in /home/jkoo/github/ytopt-mcts/ytune/ytopt/ytopt/search/mcts/benchmarks/gemm/gemm_mcts/mctree-frh3o5ab/experiment2\n",
    "Experiment 2\n",
    " --> 20.577\n",
    "```"
   ]
  },
  {
   "cell_type": "markdown",
   "metadata": {},
   "source": []
  },
  {
   "cell_type": "markdown",
   "metadata": {},
   "source": []
  },
  {
   "cell_type": "markdown",
   "metadata": {},
   "source": []
  },
  {
   "cell_type": "markdown",
   "metadata": {},
   "source": []
  },
  {
   "cell_type": "code",
   "execution_count": null,
   "metadata": {},
   "outputs": [],
   "source": []
  },
  {
   "cell_type": "code",
   "execution_count": null,
   "metadata": {},
   "outputs": [],
   "source": []
  },
  {
   "cell_type": "code",
   "execution_count": null,
   "metadata": {},
   "outputs": [],
   "source": []
  },
  {
   "cell_type": "code",
   "execution_count": null,
   "metadata": {},
   "outputs": [],
   "source": []
  },
  {
   "cell_type": "code",
   "execution_count": null,
   "metadata": {},
   "outputs": [],
   "source": []
  },
  {
   "cell_type": "code",
   "execution_count": null,
   "metadata": {},
   "outputs": [],
   "source": []
  },
  {
   "cell_type": "code",
   "execution_count": null,
   "metadata": {},
   "outputs": [],
   "source": []
  },
  {
   "cell_type": "code",
   "execution_count": null,
   "metadata": {},
   "outputs": [],
   "source": []
  },
  {
   "cell_type": "code",
   "execution_count": null,
   "metadata": {},
   "outputs": [],
   "source": []
  },
  {
   "cell_type": "markdown",
   "metadata": {},
   "source": [
    "Indentifying a problem to autotune \n",
    "-----------------------\n",
    "In this tutorial, we target to autotune ECP XSBench app `<https://github.com/ANL-CESAR/XSBench>`.\n",
    "\n",
    "XSBench is a mini-app representing a key computational kernel of the Monte Carlo neutron transport algorithm [(reference)](https://github.com/ANL-CESAR/XSBench). Save the related source and header files in the seprate folder: `mmp.c`, `Main.c`, `Materials.c`, `XSutils.c`, `XSbench_header.h`, `make.bat`. \n",
    "\n",
    "We omit presenting the files for space. For your convenience, we have the files in `<https://github.com/ytopt-team/ytopt/tree/tutorial/ytopt/benchmark/xsbench-omp/xsbench>`. "
   ]
  },
  {
   "cell_type": "markdown",
   "metadata": {},
   "source": [
    "Defining autotuning problem\n",
    "-----------------------\n",
    "We describe how to define your search problem `<https://github.com/ytopt-team/ytopt/blob/tutorial/ytopt/benchmark/xsbench-omp/xsbench/problem.py>`\n",
    "\n",
    "--------------\n",
    "First, we first define search space using ConfigSpace that is a python library `<https://automl.github.io/ConfigSpace/master/>`."
   ]
  },
  {
   "cell_type": "code",
   "execution_count": null,
   "metadata": {},
   "outputs": [],
   "source": [
    "# import required library\n",
    "import os, sys, time, json, math\n",
    "import numpy as np\n",
    "from autotune import TuningProblem\n",
    "from autotune.space import *\n",
    "import ConfigSpace as CS\n",
    "import ConfigSpace.hyperparameters as CSH\n",
    "from skopt.space import Real, Integer, Categorical\n",
    "\n",
    "HERE = os.path.dirname(os.path.abspath(__file__))\n",
    "sys.path.insert(1, os.path.dirname(HERE)+ '/plopper')\n",
    "from plopper import Plopper"
   ]
  },
  {
   "cell_type": "markdown",
   "metadata": {},
   "source": [
    "Our search space contains three parameters: 1) `p0`: number of threads, 2) `p1`: block size for openmp dynamic schedule, 3) `p2`: turn on/off omp parallel.  "
   ]
  },
  {
   "cell_type": "code",
   "execution_count": null,
   "metadata": {},
   "outputs": [],
   "source": [
    "# create an object of ConfigSpace \n",
    "cs = CS.ConfigurationSpace(seed=1234)\n",
    "# number of threads\n",
    "p0= CSH.UniformIntegerHyperparameter(name='p0', lower=4, upper=8, default_value=8)\n",
    "#block size for openmp dynamic schedule\n",
    "p1= CSH.OrdinalHyperparameter(name='p1', sequence=['10','20','40','64','80','100','128','160','200'], default_value='100')\n",
    "#omp parallel\n",
    "p2= CSH.CategoricalHyperparameter(name='p2', choices=[\"#pragma omp parallel for\", \" \"], default_value=' ')\n",
    "#add parameters to search space object\n",
    "cs.add_hyperparameters([p0, p1, p2])\n",
    "# problem space\n",
    "input_space = cs\n",
    "output_space = Space([Real(0.0, inf, name=\"time\")])"
   ]
  },
  {
   "cell_type": "markdown",
   "metadata": {},
   "source": [
    "--------------\n",
    "Then, we need to define the objective function `myobj` to evaluate a point in the search space. \n",
    "\n",
    "In this example, we define an evaluating method (Plopper) for code generation and compilation. \n",
    "Plopper take source code and output directory and return an execution time. "
   ]
  },
  {
   "cell_type": "code",
   "execution_count": null,
   "metadata": {},
   "outputs": [],
   "source": [
    "dir_path = os.path.dirname(os.path.realpath(__file__))\n",
    "kernel_idx = dir_path.rfind('/')\n",
    "kernel = dir_path[kernel_idx+1:]\n",
    "obj = Plopper(dir_path+'/mmp.c',dir_path)\n",
    "\n",
    "x1=['p0','p1','p2']\n",
    "def myobj(point: dict):\n",
    "    def plopper_func(x):\n",
    "        x = np.asarray_chkfinite(x)  # ValueError if any NaN or Inf\n",
    "        value = [point[x1[0]],point[x1[1]],point[x1[2]]]\n",
    "        print('CONFIG:',point)\n",
    "        params = [\"P0\",\"P1\",\"P2\"]\n",
    "        result = obj.findRuntime(value, params)\n",
    "        return result\n",
    "    x = np.array([point[f'p{i}'] for i in range(len(point))])\n",
    "    results = plopper_func(x)\n",
    "    print('OUTPUT:%f',results)\n",
    "    return results"
   ]
  },
  {
   "cell_type": "markdown",
   "metadata": {},
   "source": [
    "The following describes our evaluating function, Plopper. You can find it `<https://github.com/ytopt-team/ytopt/blob/tutorial/ytopt/benchmark/xsbench-omp/plopper/plopper.py>`.  "
   ]
  },
  {
   "cell_type": "code",
   "execution_count": null,
   "metadata": {},
   "outputs": [],
   "source": [
    "import os, sys, subprocess, random\n",
    "\n",
    "class Plopper:\n",
    "    def __init__(self,sourcefile,outputdir):\n",
    "        self.sourcefile = sourcefile\n",
    "        self.outputdir = outputdir+\"/tmp_files\"\n",
    "\n",
    "        if not os.path.exists(self.outputdir):\n",
    "            os.makedirs(self.outputdir)\n",
    "\n",
    "    def createDict(self, x, params):\n",
    "        dictVal = {}\n",
    "        for p, v in zip(params, x):\n",
    "            dictVal[p] = v\n",
    "        return(dictVal)\n",
    "\n",
    "    def plotValues(self, dictVal, inputfile, outputfile):\n",
    "        with open(inputfile, \"r\") as f1:\n",
    "            buf = f1.readlines()\n",
    "\n",
    "        with open(outputfile, \"w\") as f2:\n",
    "            for line in buf:\n",
    "                modify_line = line\n",
    "                for key, value in dictVal.items():\n",
    "                    if key in modify_line:\n",
    "                        if value != 'None': \n",
    "                            modify_line = modify_line.replace('#'+key, str(value))\n",
    "\n",
    "                if modify_line != line:\n",
    "                    f2.write(modify_line)\n",
    "                else:\n",
    "                    f2.write(line)     \n",
    "\n",
    "    def findRuntime(self, x, params):\n",
    "        interimfile = \"\"\n",
    "        exetime = 1\n",
    "        counter = random.randint(1, 10001)         \n",
    "        interimfile = self.outputdir+\"/tmp_\"+str(counter)+\".c\"\n",
    "        \n",
    "        # Generate intermediate file\n",
    "        dictVal = self.createDict(x, params)\n",
    "        self.plotValues(dictVal, self.sourcefile, interimfile)\n",
    "\n",
    "        #compile and find the execution time\n",
    "        tmpbinary = interimfile[:-2]\n",
    "        kernel_idx = self.sourcefile.rfind('/')\n",
    "        kernel_dir = self.sourcefile[:kernel_idx]\n",
    "        gcc_cmd = \"gcc -std=gnu99 -Wall -flto  -fopenmp -DOPENMP -O3 \" + \\\n",
    "        \" -o \" + tmpbinary + \" \" + interimfile +\" \" + kernel_dir + \"/Materials.c \" \\\n",
    "        + kernel_dir + \"/XSutils.c \" + \" -I\" + kernel_dir + \\\n",
    "        \" -lm\" + \" -L${CONDA_PREFIX}/lib\"\n",
    "        run_cmd = kernel_dir + \"/exe.pl \" + tmpbinary\n",
    "        \n",
    "        #Find the compilation status using subprocess\n",
    "        compilation_status = subprocess.run(gcc_cmd, shell=True, stderr=subprocess.PIPE)\n",
    "\n",
    "        #Find the execution time only when the compilation return code is zero, else return infinity\n",
    "        if compilation_status.returncode == 0 :\n",
    "            execution_status = subprocess.run(run_cmd, shell=True, stdout=subprocess.PIPE)\n",
    "            exetime = float(execution_status.stdout.decode('utf-8'))\n",
    "            if exetime == 0:\n",
    "                exetime = 1\n",
    "        else:\n",
    "            print(compilation_status.stderr)\n",
    "            print(\"compile failed\")\n",
    "        return exetime "
   ]
  },
  {
   "cell_type": "markdown",
   "metadata": {},
   "source": [
    "This file consists of several components.\n",
    "\n",
    "`__init__()` takes paths of the source file and output directory, and creates the output directory if it does not exists.   "
   ]
  },
  {
   "cell_type": "code",
   "execution_count": null,
   "metadata": {},
   "outputs": [],
   "source": [
    "def __init__(self,sourcefile,outputdir):\n",
    "    # Initilizing global variables\n",
    "    self.sourcefile = sourcefile\n",
    "    self.outputdir = outputdir+\"/tmp_files\"\n",
    "\n",
    "    if not os.path.exists(self.outputdir):\n",
    "        os.makedirs(self.outputdir)"
   ]
  },
  {
   "cell_type": "markdown",
   "metadata": {},
   "source": [
    "`createDict()` generates a dictionary for parameter labels and values."
   ]
  },
  {
   "cell_type": "code",
   "execution_count": null,
   "metadata": {},
   "outputs": [],
   "source": [
    "def createDict(self, x, params):\n",
    "    dictVal = {}\n",
    "    for p, v in zip(params, x):\n",
    "        dictVal[p] = v\n",
    "    return(dictVal)"
   ]
  },
  {
   "cell_type": "markdown",
   "metadata": {},
   "source": [
    "`plotValues()` replaces the Markers in the source file with the corresponding prameter values of the parameter dictionary. \n",
    "For example, a sampled value for number of threads `p0` replaces `#P0` in line 349 `input.nthreads = #P0` of `mmp.c` that is the original source file. "
   ]
  },
  {
   "cell_type": "code",
   "execution_count": null,
   "metadata": {},
   "outputs": [],
   "source": [
    "def plotValues(self, dictVal, inputfile, outputfile):\n",
    "    with open(inputfile, \"r\") as f1:\n",
    "        buf = f1.readlines()\n",
    "    with open(outputfile, \"w\") as f2:\n",
    "        for line in buf:\n",
    "            modify_line = line\n",
    "            for key, value in dictVal.items():\n",
    "                if key in modify_line:\n",
    "                    if value != 'None': #For empty string options\n",
    "                        modify_line = modify_line.replace('#'+key, str(value))\n",
    "            if modify_line != line:\n",
    "                f2.write(modify_line)\n",
    "            else:\n",
    "                f2.write(line)  #To avoid writing the Marker"
   ]
  },
  {
   "cell_type": "markdown",
   "metadata": {},
   "source": [
    "`findRuntime()` first calls `createDict()` to obatain configuration values and `plotValues()` to modify the original source code. \n",
    "After that, it generates the commandline `gcc_cmd` for compiling the modified source code and the commandline `run_cmd` for executing the compiled code. \n",
    "Then, it finds the compilation status using subprocess; finds the execution time of the compiled code; and returns the execution time as cost to the search module. "
   ]
  },
  {
   "cell_type": "code",
   "execution_count": null,
   "metadata": {},
   "outputs": [],
   "source": [
    "def findRuntime(self, x, params):\n",
    "    interimfile = \"\"\n",
    "    exetime = 1\n",
    "    counter = random.randint(1, 10001) # To reduce collision increasing the sampling intervals          \n",
    "    interimfile = self.outputdir+\"/tmp_\"+str(counter)+\".c\"\n",
    "\n",
    "    # Generate intermediate file\n",
    "    dictVal = self.createDict(x, params)\n",
    "    self.plotValues(dictVal, self.sourcefile, interimfile)\n",
    "\n",
    "    #compile and find the execution time\n",
    "    tmpbinary = interimfile[:-2]\n",
    "    kernel_idx = self.sourcefile.rfind('/')\n",
    "    kernel_dir = self.sourcefile[:kernel_idx]\n",
    "    gcc_cmd = \"gcc -std=gnu99 -Wall -flto  -fopenmp -DOPENMP -O3 \" + \\\n",
    "    \" -o \" + tmpbinary + \" \" + interimfile +\" \" + kernel_dir + \"/Materials.c \" \\\n",
    "    + kernel_dir + \"/XSutils.c \" + \" -I\" + kernel_dir + \\\n",
    "    \" -lm\" + \" -L${CONDA_PREFIX}/lib\"\n",
    "    run_cmd = kernel_dir + \"/exe.pl \" + tmpbinary\n",
    "\n",
    "    #Find the compilation status using subprocess\n",
    "    compilation_status = subprocess.run(gcc_cmd, shell=True, stderr=subprocess.PIPE)\n",
    "\n",
    "    #Find the execution time only when the compilation return code is zero, else return infinity\n",
    "    if compilation_status.returncode == 0 :\n",
    "        execution_status = subprocess.run(run_cmd, shell=True, stdout=subprocess.PIPE)\n",
    "        exetime = float(execution_status.stdout.decode('utf-8'))\n",
    "        if exetime == 0:\n",
    "            exetime = 1\n",
    "    else:\n",
    "        print(compilation_status.stderr)\n",
    "        print(\"compile failed\")\n",
    "    return exetime #return execution time as cost"
   ]
  },
  {
   "cell_type": "markdown",
   "metadata": {},
   "source": [
    "Note: \n",
    "- For macOS it may need to compile it with `clang`. You can change `gcc` to `clang` such that `gcc_cmd = \"clang -std=gnu99 -Wall -flto  -fopenmp -DOPENMP -O3 \" + \\`. \n",
    "- `exe.pl` computes average the execution time over multiple runs. We execute once in this example to save time. \n",
    "\n",
    "--------------\n",
    "Last, we create an object of the autotuning problem. The problem will be called in the commandline implementation. "
   ]
  },
  {
   "cell_type": "code",
   "execution_count": null,
   "metadata": {},
   "outputs": [],
   "source": [
    "Problem = TuningProblem(\n",
    "    task_space=None,\n",
    "    input_space=input_space,\n",
    "    output_space=output_space,\n",
    "    objective=myobj,\n",
    "    constraints=None,\n",
    "    model=None)"
   ]
  },
  {
   "cell_type": "markdown",
   "metadata": {},
   "source": [
    "Running and viewing Results\n",
    "-----------------------\n",
    "\n",
    "Now, we can run the following command to autotune our program: \n",
    "--evaluator flag sets which object used to evaluate models, --problem flag sets path to the Problem instance you want to use for the search, --max-evals flag sets the maximum number of evaluations, --learner flag sets the type of learner (surrogate model).\n",
    "\n",
    "- Go to where `problem.py` such as\n",
    "\n",
    "`\n",
    "cd ytopt/benchmark/xsbench-omp/xsbench\n",
    "`\n",
    "- Start search\n",
    "\n",
    "`python -m ytopt.search.ambs --evaluator ray --problem problem.Problem --max-evals=10 --learner RF\n",
    "`\n",
    "\n",
    "Note that use `python3` if your environment is built with python3. "
   ]
  },
  {
   "cell_type": "markdown",
   "metadata": {},
   "source": [
    "--------------\n",
    "Once autotuning kick off, ytopt.log, results.csv, and results.json will be rendered.\n",
    "\n",
    "We can track the results of each run configuration from `ytopt.log` shows the following (output lines are truncated for readability here): "
   ]
  },
  {
   "cell_type": "markdown",
   "metadata": {},
   "source": [
    "```\n",
    "2021-07-28 15:51:49|2126|INFO|ytopt.search.search:53] Created \"ray\" evaluator\n",
    "2021-07-28 15:51:49|2126|INFO|ytopt.search.search:54] Evaluator: num_workers is 1\n",
    "2021-07-28 15:51:49|2126|INFO|ytopt.search.hps.ambs:47] Initializing AMBS\n",
    "2021-07-28 15:51:49|2126|INFO|ytopt.search.hps.optimizer.optimizer:51] Using skopt.Optimizer with RF base_estimator\n",
    "2021-07-28 15:51:49|2126|INFO|ytopt.search.hps.ambs:79] Generating 1 initial points...\n",
    "2021-07-28 15:51:50|2126|INFO|ytopt.evaluator.evaluate:104] Submitted new eval of {'p0': '6', 'p1': '200', 'p2': ' '}\n",
    "2021-07-28 15:52:12|2126|INFO|ytopt.evaluator.evaluate:206] New eval finished: {\"p0\": \"6\", \"p1\": \"200\", \"p2\": \" \"} --> 20.158\n",
    "2021-07-28 15:52:12|2126|INFO|ytopt.evaluator.evaluate:217] Requested eval x: {'p0': '6', 'p1': '200', 'p2': ' '} y: 20.158\n",
    "2021-07-28 15:52:12|2126|INFO|ytopt.search.hps.ambs:92] Refitting model with batch of 1 evals\n",
    "2021-07-28 15:52:12|2126|DEBUG|ytopt.search.hps.optimizer.optimizer:119] tell: {'p0': '6', 'p1': '200', 'p2': ' '} --> ('6', '200', ' '): evaluated objective: 20.158\n",
    "2021-07-28 15:52:13|2126|INFO|ytopt.search.hps.ambs:94] Drawing 1 points with strategy cl_max\n",
    "2021-07-28 15:52:13|2126|DEBUG|ytopt.search.hps.optimizer.optimizer:84] _ask: ['7', '40', ' '] lie: 20.158\n",
    "2021-07-28 15:52:13|2126|INFO|ytopt.evaluator.evaluate:104] Submitted new eval of {'p0': '7', 'p1': '40', 'p2': ' '}\n",
    "2021-07-28 15:52:36|2126|INFO|ytopt.evaluator.evaluate:206] New eval finished: {\"p0\": \"7\", \"p1\": \"40\", \"p2\": \" \"} --> 21.687\n",
    "2021-07-28 15:52:36|2126|INFO|ytopt.evaluator.evaluate:217] Requested eval x: {'p0': '7', 'p1': '40', 'p2': ' '} y: 21.687\n",
    "2021-07-28 15:52:36|2126|INFO|ytopt.search.hps.ambs:92] Refitting model with batch of 1 evals\n",
    "2021-07-28 15:52:36|2126|DEBUG|ytopt.search.hps.optimizer.optimizer:119] tell: {'p0': '7', 'p1': '40', 'p2': ' '} --> ('7', '40', ' '): evaluated objective: 21.687\n",
    "2021-07-28 15:52:37|2126|INFO|ytopt.search.hps.ambs:94] Drawing 1 points with strategy cl_max\n",
    "2021-07-28 15:52:37|2126|DEBUG|ytopt.search.hps.optimizer.optimizer:84] _ask: ['7', '200', '#pragma omp parallel for'] lie: 21.687\n",
    "2021-07-28 15:52:37|2126|INFO|ytopt.evaluator.evaluate:104] Submitted new eval of {'p0': '7', 'p1': '200', 'p2': '#pragma omp parallel for'}\n",
    "2021-07-28 15:52:58|2126|INFO|ytopt.evaluator.evaluate:206] New eval finished: {\"p0\": \"7\", \"p1\": \"200\", \"p2\": \"#pragma omp parallel for\"} --> 20.393\n",
    "2021-07-28 15:52:58|2126|INFO|ytopt.evaluator.evaluate:217] Requested eval x: {'p0': '7', 'p1': '200', 'p2': '#pragma omp parallel for'} y: 20.393\n",
    "2021-07-28 15:52:58|2126|INFO|ytopt.search.hps.ambs:92] Refitting model with batch of 1 evals\n",
    "2021-07-28 15:52:58|2126|DEBUG|ytopt.search.hps.optimizer.optimizer:119] tell: {'p0': '7', 'p1': '200', 'p2': '#pragma omp parallel for'} --> ('7', '200', '#pragma omp parallel for'): evaluated objective: 20.393\n",
    "2021-07-28 15:52:59|2126|INFO|ytopt.search.hps.ambs:94] Drawing 1 points with strategy cl_max\n",
    "2021-07-28 15:52:59|2126|DEBUG|ytopt.search.hps.optimizer.optimizer:84] _ask: ['8', '100', ' '] lie: 21.687\n",
    "2021-07-28 15:52:59|2126|INFO|ytopt.evaluator.evaluate:104] Submitted new eval of {'p0': '8', 'p1': '100', 'p2': ' '}\n",
    "2021-07-28 15:53:20|2126|INFO|ytopt.evaluator.evaluate:206] New eval finished: {\"p0\": \"8\", \"p1\": \"100\", \"p2\": \" \"} --> 20.577\n",
    "```"
   ]
  },
  {
   "cell_type": "markdown",
   "metadata": {},
   "source": [
    "Look up the best configuration (found so far) and its value by inspecting the following created file: `results.csv` and `results.json`. \n",
    "\n",
    "In this run, the best configuration and its runtime is obtained:\n",
    "\n",
    "`{\"p0\": \"8\", \"p1\": \"200\", \"p2\": \"#pragma omp parallel for\"}: 19.604`"
   ]
  }
 ],
 "metadata": {
  "kernelspec": {
   "display_name": "Python 3",
   "language": "python",
   "name": "python3"
  },
  "language_info": {
   "codemirror_mode": {
    "name": "ipython",
    "version": 3
   },
   "file_extension": ".py",
   "mimetype": "text/x-python",
   "name": "python",
   "nbconvert_exporter": "python",
   "pygments_lexer": "ipython3",
   "version": "3.8.3"
  }
 },
 "nbformat": 4,
 "nbformat_minor": 1
}
